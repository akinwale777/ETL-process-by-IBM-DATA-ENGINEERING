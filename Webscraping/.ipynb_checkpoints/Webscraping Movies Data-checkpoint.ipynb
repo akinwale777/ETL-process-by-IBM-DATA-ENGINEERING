{
 "cells": [
  {
   "cell_type": "markdown",
   "id": "b554be9c-1c74-4646-9ae3-506fcacb97a4",
   "metadata": {},
   "source": [
    "This webscraping excercise is to extract the name, year aand director of each movie displayed in this website\n",
    "https://web.archive.org/web/20230902133604/https://www.bfi.org.uk/sight-and-sound/greatest-films-all-time\n",
    "and safe the result to a csv file and also a sqlite3 database."
   ]
  },
  {
   "cell_type": "code",
   "execution_count": 95,
   "id": "2a1bb95b-1bb3-4426-a598-0bb7a7ff650e",
   "metadata": {},
   "outputs": [],
   "source": [
    "from bs4 import BeautifulSoup\n",
    "import requests\n",
    "import pandas as pd\n",
    "import sqlite3"
   ]
  },
  {
   "cell_type": "code",
   "execution_count": 97,
   "id": "1da3b699-eedc-4fba-a10a-1e9215d7fd83",
   "metadata": {},
   "outputs": [],
   "source": [
    "# I Created a db file for the sql database \n",
    "with open('movies.db','r') as f:\n",
    "    pass"
   ]
  },
  {
   "cell_type": "code",
   "execution_count": 105,
   "id": "170189ac-dfdd-42a2-a40a-a5e91208aed2",
   "metadata": {},
   "outputs": [],
   "source": [
    "db='movies.db' # Name of the database\n",
    "table_name = 'movies_table'\n",
    "sql_connection = sqlite3.connect('movies.db') # sql engine"
   ]
  },
  {
   "cell_type": "code",
   "execution_count": 67,
   "id": "6212c95c-bfbf-49fe-8b06-f247c89f2bfd",
   "metadata": {},
   "outputs": [],
   "source": [
    "url='https://web.archive.org/web/20230902133604/https://www.bfi.org.uk/sight-and-sound/greatest-films-all-time'\n",
    "response = requests.get(url).text"
   ]
  },
  {
   "cell_type": "code",
   "execution_count": 68,
   "id": "e203836f-b381-493d-8b2f-e0262b2164a5",
   "metadata": {},
   "outputs": [],
   "source": [
    "data= BeautifulSoup(response,'html.parser')"
   ]
  },
  {
   "cell_type": "code",
   "execution_count": 99,
   "id": "faee8502-e1b1-4a55-bafb-9787ec535119",
   "metadata": {},
   "outputs": [],
   "source": [
    "body=data.find_all('h1')\n",
    "movies=[]\n",
    "for _ in body[1:]:\n",
    "    movies.append(_.string)"
   ]
  },
  {
   "cell_type": "code",
   "execution_count": 100,
   "id": "579166dc-00f2-4c45-942c-eae164b29151",
   "metadata": {},
   "outputs": [],
   "source": [
    "years=data.find_all('p',class_=\"ResultsPage__P-sc-of10co-2 fLmNLB\")\n",
    "year=[]\n",
    "for _ in years[::2]:\n",
    "    year.append(_.contents[0])\n",
    "directors=[]\n",
    "for _ in years[1::2]:\n",
    "    directors.append(_.contents[2])"
   ]
  },
  {
   "cell_type": "code",
   "execution_count": 101,
   "id": "698e3244-7679-4433-8f70-3bf2d78ef8a2",
   "metadata": {},
   "outputs": [],
   "source": [
    "df=pd.DataFrame(data={\"Movies\":movies,\"Year\":year,\"Director\":directors})"
   ]
  },
  {
   "cell_type": "code",
   "execution_count": 106,
   "id": "c74766ab-60cc-4434-9a4e-2c5bfcf81f82",
   "metadata": {},
   "outputs": [
    {
     "data": {
      "text/plain": [
       "264"
      ]
     },
     "execution_count": 106,
     "metadata": {},
     "output_type": "execute_result"
    }
   ],
   "source": [
    "df.to_sql(table_name,sql_connection,if_exists ='replace',index=False)"
   ]
  },
  {
   "cell_type": "code",
   "execution_count": 131,
   "id": "5d0dd481-7829-4ba1-832f-06f88e5a726e",
   "metadata": {},
   "outputs": [
    {
     "data": {
      "text/html": [
       "<div>\n",
       "<style scoped>\n",
       "    .dataframe tbody tr th:only-of-type {\n",
       "        vertical-align: middle;\n",
       "    }\n",
       "\n",
       "    .dataframe tbody tr th {\n",
       "        vertical-align: top;\n",
       "    }\n",
       "\n",
       "    .dataframe thead th {\n",
       "        text-align: right;\n",
       "    }\n",
       "</style>\n",
       "<table border=\"1\" class=\"dataframe\">\n",
       "  <thead>\n",
       "    <tr style=\"text-align: right;\">\n",
       "      <th></th>\n",
       "      <th>Movies</th>\n",
       "      <th>Year</th>\n",
       "      <th>Director</th>\n",
       "    </tr>\n",
       "  </thead>\n",
       "  <tbody>\n",
       "    <tr>\n",
       "      <th>0</th>\n",
       "      <td>Born in Flames</td>\n",
       "      <td>1983</td>\n",
       "      <td>Lizzie Borden</td>\n",
       "    </tr>\n",
       "    <tr>\n",
       "      <th>1</th>\n",
       "      <td>Pandora's Box</td>\n",
       "      <td>1928</td>\n",
       "      <td>G.W. Pabst</td>\n",
       "    </tr>\n",
       "    <tr>\n",
       "      <th>2</th>\n",
       "      <td>Sullivan's Travels</td>\n",
       "      <td>1941</td>\n",
       "      <td>Preston Sturges</td>\n",
       "    </tr>\n",
       "    <tr>\n",
       "      <th>3</th>\n",
       "      <td>Annie Hall</td>\n",
       "      <td>1977</td>\n",
       "      <td>Woody Allen</td>\n",
       "    </tr>\n",
       "    <tr>\n",
       "      <th>4</th>\n",
       "      <td>Earth</td>\n",
       "      <td>1930</td>\n",
       "      <td>Alexander Dovzhenko</td>\n",
       "    </tr>\n",
       "    <tr>\n",
       "      <th>...</th>\n",
       "      <td>...</td>\n",
       "      <td>...</td>\n",
       "      <td>...</td>\n",
       "    </tr>\n",
       "    <tr>\n",
       "      <th>259</th>\n",
       "      <td>In the Mood for Love</td>\n",
       "      <td>2000</td>\n",
       "      <td>Wong Kar Wai</td>\n",
       "    </tr>\n",
       "    <tr>\n",
       "      <th>260</th>\n",
       "      <td>Tokyo Story</td>\n",
       "      <td>1953</td>\n",
       "      <td>Yasujirō Ozu</td>\n",
       "    </tr>\n",
       "    <tr>\n",
       "      <th>261</th>\n",
       "      <td>Citizen Kane</td>\n",
       "      <td>1941</td>\n",
       "      <td>Orson Welles</td>\n",
       "    </tr>\n",
       "    <tr>\n",
       "      <th>262</th>\n",
       "      <td>Vertigo</td>\n",
       "      <td>1958</td>\n",
       "      <td>Alfred Hitchcock</td>\n",
       "    </tr>\n",
       "    <tr>\n",
       "      <th>263</th>\n",
       "      <td>Jeanne Dielman, 23 Quai du Commerce, 1080 Brux...</td>\n",
       "      <td>1975</td>\n",
       "      <td>Chantal Akerman</td>\n",
       "    </tr>\n",
       "  </tbody>\n",
       "</table>\n",
       "<p>264 rows × 3 columns</p>\n",
       "</div>"
      ],
      "text/plain": [
       "                                                Movies  Year  \\\n",
       "0                                      Born in Flames   1983   \n",
       "1                                        Pandora's Box  1928   \n",
       "2                                   Sullivan's Travels  1941   \n",
       "3                                           Annie Hall  1977   \n",
       "4                                                Earth  1930   \n",
       "..                                                 ...   ...   \n",
       "259                               In the Mood for Love  2000   \n",
       "260                                        Tokyo Story  1953   \n",
       "261                                       Citizen Kane  1941   \n",
       "262                                            Vertigo  1958   \n",
       "263  Jeanne Dielman, 23 Quai du Commerce, 1080 Brux...  1975   \n",
       "\n",
       "                Director  \n",
       "0          Lizzie Borden  \n",
       "1             G.W. Pabst  \n",
       "2        Preston Sturges  \n",
       "3            Woody Allen  \n",
       "4    Alexander Dovzhenko  \n",
       "..                   ...  \n",
       "259         Wong Kar Wai  \n",
       "260         Yasujirō Ozu  \n",
       "261         Orson Welles  \n",
       "262     Alfred Hitchcock  \n",
       "263      Chantal Akerman  \n",
       "\n",
       "[264 rows x 3 columns]"
      ]
     },
     "execution_count": 131,
     "metadata": {},
     "output_type": "execute_result"
    }
   ],
   "source": [
    "df"
   ]
  },
  {
   "cell_type": "code",
   "execution_count": null,
   "id": "a1e7485d-df3f-490d-a3ab-fbecdf1fe852",
   "metadata": {},
   "outputs": [],
   "source": []
  }
 ],
 "metadata": {
  "kernelspec": {
   "display_name": "Python 3 (ipykernel)",
   "language": "python",
   "name": "python3"
  },
  "language_info": {
   "codemirror_mode": {
    "name": "ipython",
    "version": 3
   },
   "file_extension": ".py",
   "mimetype": "text/x-python",
   "name": "python",
   "nbconvert_exporter": "python",
   "pygments_lexer": "ipython3",
   "version": "3.11.5"
  }
 },
 "nbformat": 4,
 "nbformat_minor": 5
}
